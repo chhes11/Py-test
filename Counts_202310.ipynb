{
 "cells": [
  {
   "cell_type": "code",
   "execution_count": 2,
   "metadata": {},
   "outputs": [
    {
     "name": "stdout",
     "output_type": "stream",
     "text": [
      "Defaulting to user installation because normal site-packages is not writeable\n",
      "Collecting selenium\n",
      "  Downloading selenium-4.14.0-py3-none-any.whl (9.9 MB)\n",
      "     ---------------------------------------- 9.9/9.9 MB 477.5 kB/s eta 0:00:00\n",
      "Collecting trio~=0.17\n",
      "  Downloading trio-0.22.2-py3-none-any.whl (400 kB)\n",
      "     ------------------------------------ 400.2/400.2 kB 580.3 kB/s eta 0:00:00\n",
      "Requirement already satisfied: urllib3[socks]<3,>=1.26 in c:\\programdata\\anaconda3\\lib\\site-packages (from selenium) (1.26.11)\n",
      "Collecting trio-websocket~=0.9\n",
      "  Downloading trio_websocket-0.11.1-py3-none-any.whl (17 kB)\n",
      "Requirement already satisfied: certifi>=2021.10.8 in c:\\programdata\\anaconda3\\lib\\site-packages (from selenium) (2022.9.14)\n",
      "Requirement already satisfied: sniffio in c:\\programdata\\anaconda3\\lib\\site-packages (from trio~=0.17->selenium) (1.2.0)\n",
      "Requirement already satisfied: cffi>=1.14 in c:\\programdata\\anaconda3\\lib\\site-packages (from trio~=0.17->selenium) (1.15.1)\n",
      "Requirement already satisfied: sortedcontainers in c:\\programdata\\anaconda3\\lib\\site-packages (from trio~=0.17->selenium) (2.4.0)\n",
      "Requirement already satisfied: attrs>=20.1.0 in c:\\programdata\\anaconda3\\lib\\site-packages (from trio~=0.17->selenium) (21.4.0)\n",
      "Collecting outcome\n",
      "  Downloading outcome-1.3.0-py2.py3-none-any.whl (10 kB)\n",
      "Requirement already satisfied: idna in c:\\programdata\\anaconda3\\lib\\site-packages (from trio~=0.17->selenium) (3.3)\n",
      "Collecting exceptiongroup>=1.0.0rc9\n",
      "  Downloading exceptiongroup-1.1.3-py3-none-any.whl (14 kB)\n",
      "Collecting wsproto>=0.14\n",
      "  Downloading wsproto-1.2.0-py3-none-any.whl (24 kB)\n",
      "Requirement already satisfied: PySocks!=1.5.7,<2.0,>=1.5.6 in c:\\programdata\\anaconda3\\lib\\site-packages (from urllib3[socks]<3,>=1.26->selenium) (1.7.1)\n",
      "Requirement already satisfied: pycparser in c:\\programdata\\anaconda3\\lib\\site-packages (from cffi>=1.14->trio~=0.17->selenium) (2.21)\n",
      "Collecting h11<1,>=0.9.0\n",
      "  Downloading h11-0.14.0-py3-none-any.whl (58 kB)\n",
      "     -------------------------------------- 58.3/58.3 kB 516.3 kB/s eta 0:00:00\n",
      "Installing collected packages: outcome, h11, exceptiongroup, wsproto, trio, trio-websocket, selenium\n",
      "Successfully installed exceptiongroup-1.1.3 h11-0.14.0 outcome-1.3.0 selenium-4.14.0 trio-0.22.2 trio-websocket-0.11.1 wsproto-1.2.0\n"
     ]
    }
   ],
   "source": [
    "!pip install selenium"
   ]
  },
  {
   "cell_type": "code",
   "execution_count": 6,
   "metadata": {},
   "outputs": [],
   "source": [
    "# 載入需要的套件為\n",
    "from selenium import webdriver\n",
    "from selenium.webdriver.common.by import By\n",
    "from bs4 import BeautifulSoup\n",
    "import time\n",
    "import pandas as pd\n",
    "import xlwings as xw\n",
    "import numpy as np"
   ]
  },
  {
   "cell_type": "code",
   "execution_count": 7,
   "metadata": {},
   "outputs": [],
   "source": [
    "# 開啟瀏覽器視窗(Chrome)\n",
    "# 方法一：執行前需開啟chromedriver.exe且與執行檔在同一個工作目錄\n",
    "driver = webdriver.Chrome()\n",
    "day = time.strftime(\"%Y/%m/%d %a\")\n",
    "time = time.strftime(\"%H:%M:%S\")\n",
    "# 前往特定網址\n",
    "default_url = \"https://booking-tpsc.sporetrofit.com/Home/LocationPeopleNum\"\n",
    "driver.get(default_url)\n",
    "# 這時候的HTML原始碼就是我們要爬取的網頁內容，將目前瀏覽器的page_source(原始碼)，傳入BeautifulSoup類別，來進行解析\n",
    "soup = BeautifulSoup(driver.page_source, 'html.parser')\n",
    "titles = soup.find_all('span')"
   ]
  },
  {
   "cell_type": "code",
   "execution_count": 8,
   "metadata": {},
   "outputs": [],
   "source": [
    "driver.close() # 關閉瀏覽器視窗"
   ]
  },
  {
   "cell_type": "code",
   "execution_count": 17,
   "metadata": {},
   "outputs": [
    {
     "data": {
      "text/plain": [
       "[<span class=\"HeaderWebsite\">臺北市運動中心預約系統</span>,\n",
       " <span style=\"vertical-align: top; width: 0px; height: 0px; overflow: hidden;\"><iframe allow=\"encrypted-media\" allowfullscreen=\"true\" allowtransparency=\"true\" data-testid=\"fb:login_button Facebook Social Plugin\" frameborder=\"0\" height=\"1000px\" name=\"f293824decaadc\" scrolling=\"no\" src=\"https://www.facebook.com/v2.8/plugins/login_button.php?app_id=740650979450886&amp;auto_logout_link=false&amp;channel=https%3A%2F%2Fstaticxx.facebook.com%2Fx%2Fconnect%2Fxd_arbiter%2F%3Fversion%3D46%23cb%3Df3c42be249a5a2c%26domain%3Dbooking-tpsc.sporetrofit.com%26is_canvas%3Dfalse%26origin%3Dhttps%253A%252F%252Fbooking-tpsc.sporetrofit.com%252Ff3628ff083f73d4%26relation%3Dparent.parent&amp;container_width=0&amp;locale=zh_TW&amp;login_text=Facebook%20%E7%99%BB%E5%85%A5&amp;max_rows=1&amp;scope=public_profile%2Cemail&amp;sdk=joey&amp;show_faces=false&amp;size=xlarge\" style=\"border: none; visibility: hidden;\" title=\"fb:login_button Facebook Social Plugin\" width=\"1000px\"></iframe></span>,\n",
       " <span class=\"value\">APP下載</span>,\n",
       " <span class=\"key\">語系: </span>,\n",
       " <span class=\"value\" id=\"curLanguageSpan\">中文(繁體)</span>,\n",
       " <span id=\"CurSwPNum_BTSC\">303</span>,\n",
       " <span class=\"upperlimit\" id=\"MaxSwPNum_BTSC\">200</span>,\n",
       " <span id=\"CurGymPNum_BTSC\">17</span>,\n",
       " <span class=\"upperlimit\" id=\"MaxGymPNum_BTSC\">60</span>,\n",
       " <span id=\"CurSwPNum_DTSC\">67</span>,\n",
       " <span class=\"upperlimit\" id=\"MaxSwPNum_DTSC\">250</span>,\n",
       " <span id=\"CurGymPNum_DTSC\">29</span>,\n",
       " <span class=\"upperlimit\" id=\"MaxGymPNum_DTSC\">90</span>,\n",
       " <span id=\"CurSwPNum_JJSC\">76</span>,\n",
       " <span class=\"upperlimit\" id=\"MaxSwPNum_JJSC\">250</span>,\n",
       " <span id=\"CurGymPNum_JJSC\">33</span>,\n",
       " <span class=\"upperlimit\" id=\"MaxGymPNum_JJSC\">100</span>,\n",
       " <span id=\"CurSwPNum_NGSC\">80</span>,\n",
       " <span class=\"upperlimit\" id=\"MaxSwPNum_NGSC\">200</span>,\n",
       " <span id=\"CurGymPNum_NGSC\">41</span>,\n",
       " <span class=\"upperlimit\" id=\"MaxGymPNum_NGSC\">110</span>,\n",
       " <span id=\"CurSwPNum_NHSC\">69</span>,\n",
       " <span class=\"upperlimit\" id=\"MaxSwPNum_NHSC\">200</span>,\n",
       " <span id=\"CurGymPNum_NHSC\">33</span>,\n",
       " <span class=\"upperlimit\" id=\"MaxGymPNum_NHSC\">130</span>,\n",
       " <span id=\"CurSwPNum_SLSC\">57</span>,\n",
       " <span class=\"upperlimit\" id=\"MaxSwPNum_SLSC\">200</span>,\n",
       " <span id=\"CurGymPNum_SLSC\">36</span>,\n",
       " <span class=\"upperlimit\" id=\"MaxGymPNum_SLSC\">100</span>,\n",
       " <span id=\"CurSwPNum_SSSC\">0</span>,\n",
       " <span class=\"upperlimit\" id=\"MaxSwPNum_SSSC\">400</span>,\n",
       " <span id=\"CurGymPNum_SSSC\">0</span>,\n",
       " <span class=\"upperlimit\" id=\"MaxGymPNum_SSSC\">100</span>,\n",
       " <span id=\"CurSwPNum_VTPC\">0</span>,\n",
       " <span class=\"upperlimit\" id=\"MaxSwPNum_VTPC\">0</span>,\n",
       " <span id=\"CurGymPNum_VTPC\">0</span>,\n",
       " <span class=\"upperlimit\" id=\"MaxGymPNum_VTPC\">0</span>,\n",
       " <span id=\"CurSwPNum_WHSC\">69</span>,\n",
       " <span class=\"upperlimit\" id=\"MaxSwPNum_WHSC\">100</span>,\n",
       " <span id=\"CurGymPNum_WHSC\">54</span>,\n",
       " <span class=\"upperlimit\" id=\"MaxGymPNum_WHSC\">200</span>,\n",
       " <span id=\"CurSwPNum_WSSC\">1</span>,\n",
       " <span class=\"upperlimit\" id=\"MaxSwPNum_WSSC\">200</span>,\n",
       " <span id=\"CurGymPNum_WSSC\">29</span>,\n",
       " <span class=\"upperlimit\" id=\"MaxGymPNum_WSSC\">85</span>,\n",
       " <span id=\"CurSwPNum_ZSSC\">40</span>,\n",
       " <span class=\"upperlimit\" id=\"MaxSwPNum_ZSSC\">150</span>,\n",
       " <span id=\"CurGymPNum_ZSSC\">27</span>,\n",
       " <span class=\"upperlimit\" id=\"MaxGymPNum_ZSSC\">50</span>]"
      ]
     },
     "execution_count": 17,
     "metadata": {},
     "output_type": "execute_result"
    }
   ],
   "source": [
    "titles"
   ]
  },
  {
   "cell_type": "code",
   "execution_count": 9,
   "metadata": {},
   "outputs": [
    {
     "data": {
      "text/plain": [
       "'南港運動中心80人20041人110'"
      ]
     },
     "execution_count": 9,
     "metadata": {},
     "output_type": "execute_result"
    }
   ],
   "source": [
    "titles[17].parent.parent.parent.parent.text"
   ]
  },
  {
   "cell_type": "code",
   "execution_count": 25,
   "metadata": {},
   "outputs": [
    {
     "data": {
      "text/plain": [
       "'北投運動中心303人20017人60'"
      ]
     },
     "execution_count": 25,
     "metadata": {},
     "output_type": "execute_result"
    }
   ],
   "source": [
    "titles[5].parent.parent.parent.parent.text"
   ]
  },
  {
   "cell_type": "code",
   "execution_count": 18,
   "metadata": {},
   "outputs": [
    {
     "data": {
      "text/plain": [
       "str"
      ]
     },
     "execution_count": 18,
     "metadata": {},
     "output_type": "execute_result"
    }
   ],
   "source": [
    "type(titles[17].parent.parent.parent.parent.text)"
   ]
  },
  {
   "cell_type": "code",
   "execution_count": 39,
   "metadata": {},
   "outputs": [
    {
     "data": {
      "text/plain": [
       "range"
      ]
     },
     "execution_count": 39,
     "metadata": {},
     "output_type": "execute_result"
    }
   ],
   "source": [
    "type(range(5,33,4))"
   ]
  },
  {
   "cell_type": "code",
   "execution_count": 41,
   "metadata": {},
   "outputs": [
    {
     "name": "stdout",
     "output_type": "stream",
     "text": [
      "北投運動中心303人20017人60\n",
      "大同運動中心67人25029人90\n",
      "中正運動中心76人25033人100\n",
      "南港運動中心80人20041人110\n",
      "內湖運動中心69人20033人130\n",
      "士林運動中心57人20036人100\n",
      "松山運動中心0人4000人100\n",
      "虛擬北市運動中心運動中心0人00人0\n",
      "萬華運動中心69人10054人200\n",
      "文山運動中心1人20029人85\n",
      "中山運動中心40人15027人50\n"
     ]
    }
   ],
   "source": [
    "for i in range(5,49,4):\n",
    "    print(titles[i].parent.parent.parent.parent.text)"
   ]
  },
  {
   "cell_type": "code",
   "execution_count": 11,
   "metadata": {},
   "outputs": [
    {
     "data": {
      "text/plain": [
       "(str, str)"
      ]
     },
     "execution_count": 11,
     "metadata": {},
     "output_type": "execute_result"
    }
   ],
   "source": [
    "type(titles[17].get(\"id\")), type(titles[17].text)"
   ]
  },
  {
   "cell_type": "code",
   "execution_count": 12,
   "metadata": {},
   "outputs": [
    {
     "data": {
      "text/plain": [
       "('CurSwPNum_NGSC', '80')"
      ]
     },
     "execution_count": 12,
     "metadata": {},
     "output_type": "execute_result"
    }
   ],
   "source": [
    "titles[17].get(\"id\"), titles[17].text"
   ]
  },
  {
   "cell_type": "code",
   "execution_count": 13,
   "metadata": {},
   "outputs": [
    {
     "data": {
      "text/plain": [
       "'80'"
      ]
     },
     "execution_count": 13,
     "metadata": {},
     "output_type": "execute_result"
    }
   ],
   "source": [
    "titles[17].text"
   ]
  },
  {
   "cell_type": "code",
   "execution_count": 43,
   "metadata": {},
   "outputs": [
    {
     "name": "stdout",
     "output_type": "stream",
     "text": [
      "北投運動中心 CurSwPNum_BTSC 303 MaxSwPNum_BTSC 200 CurGymPNum_BTSC 17 MaxGymPNum_BTSC 60 2023/10/23 Mon 15:47:07\n",
      "大同運動中心 CurSwPNum_DTSC 67 MaxSwPNum_DTSC 250 CurGymPNum_DTSC 29 MaxGymPNum_DTSC 90 2023/10/23 Mon 15:47:07\n",
      "中正運動中心 CurSwPNum_JJSC 76 MaxSwPNum_JJSC 250 CurGymPNum_JJSC 33 MaxGymPNum_JJSC 100 2023/10/23 Mon 15:47:07\n",
      "南港運動中心 CurSwPNum_NGSC 80 MaxSwPNum_NGSC 200 CurGymPNum_NGSC 41 MaxGymPNum_NGSC 110 2023/10/23 Mon 15:47:07\n",
      "內湖運動中心 CurSwPNum_NHSC 69 MaxSwPNum_NHSC 200 CurGymPNum_NHSC 33 MaxGymPNum_NHSC 130 2023/10/23 Mon 15:47:07\n",
      "士林運動中心 CurSwPNum_SLSC 57 MaxSwPNum_SLSC 200 CurGymPNum_SLSC 36 MaxGymPNum_SLSC 100 2023/10/23 Mon 15:47:07\n",
      "松山運動中心 CurSwPNum_SSSC 0 MaxSwPNum_SSSC 400 CurGymPNum_SSSC 0 MaxGymPNum_SSSC 100 2023/10/23 Mon 15:47:07\n",
      "虛擬北市運動 CurSwPNum_VTPC 0 MaxSwPNum_VTPC 0 CurGymPNum_VTPC 0 MaxGymPNum_VTPC 0 2023/10/23 Mon 15:47:07\n",
      "萬華運動中心 CurSwPNum_WHSC 69 MaxSwPNum_WHSC 100 CurGymPNum_WHSC 54 MaxGymPNum_WHSC 200 2023/10/23 Mon 15:47:07\n",
      "文山運動中心 CurSwPNum_WSSC 1 MaxSwPNum_WSSC 200 CurGymPNum_WSSC 29 MaxGymPNum_WSSC 85 2023/10/23 Mon 15:47:07\n",
      "中山運動中心 CurSwPNum_ZSSC 40 MaxSwPNum_ZSSC 150 CurGymPNum_ZSSC 27 MaxGymPNum_ZSSC 50 2023/10/23 Mon 15:47:07\n"
     ]
    }
   ],
   "source": [
    "for i in range(5,49,4):\n",
    "    print(\n",
    "        titles[i].parent.parent.parent.parent.text[0:6],\n",
    "        titles[i].get(\"id\"), titles[i].text, \n",
    "        titles[i+1].get(\"id\"), titles[i+1].text, \n",
    "        titles[i+2].get(\"id\"), titles[i+2].text, \n",
    "        titles[i+3].get(\"id\"), titles[i+3].text,\n",
    "        day, time\n",
    "    )"
   ]
  },
  {
   "cell_type": "code",
   "execution_count": 48,
   "metadata": {},
   "outputs": [
    {
     "data": {
      "text/html": [
       "<div>\n",
       "<style scoped>\n",
       "    .dataframe tbody tr th:only-of-type {\n",
       "        vertical-align: middle;\n",
       "    }\n",
       "\n",
       "    .dataframe tbody tr th {\n",
       "        vertical-align: top;\n",
       "    }\n",
       "\n",
       "    .dataframe thead th {\n",
       "        text-align: right;\n",
       "    }\n",
       "</style>\n",
       "<table border=\"1\" class=\"dataframe\">\n",
       "  <thead>\n",
       "    <tr style=\"text-align: right;\">\n",
       "      <th></th>\n",
       "      <th>SCname</th>\n",
       "      <th>CurSwPNum</th>\n",
       "      <th>MaxSwPNum</th>\n",
       "      <th>CurGymPNum</th>\n",
       "      <th>MaxGymPNum</th>\n",
       "      <th>Day</th>\n",
       "      <th>Time</th>\n",
       "    </tr>\n",
       "  </thead>\n",
       "  <tbody>\n",
       "    <tr>\n",
       "      <th>1</th>\n",
       "      <td>NaN</td>\n",
       "      <td>NaN</td>\n",
       "      <td>NaN</td>\n",
       "      <td>NaN</td>\n",
       "      <td>NaN</td>\n",
       "      <td>NaN</td>\n",
       "      <td>NaN</td>\n",
       "    </tr>\n",
       "    <tr>\n",
       "      <th>2</th>\n",
       "      <td>NaN</td>\n",
       "      <td>NaN</td>\n",
       "      <td>NaN</td>\n",
       "      <td>NaN</td>\n",
       "      <td>NaN</td>\n",
       "      <td>NaN</td>\n",
       "      <td>NaN</td>\n",
       "    </tr>\n",
       "    <tr>\n",
       "      <th>3</th>\n",
       "      <td>NaN</td>\n",
       "      <td>NaN</td>\n",
       "      <td>NaN</td>\n",
       "      <td>NaN</td>\n",
       "      <td>NaN</td>\n",
       "      <td>NaN</td>\n",
       "      <td>NaN</td>\n",
       "    </tr>\n",
       "    <tr>\n",
       "      <th>4</th>\n",
       "      <td>NaN</td>\n",
       "      <td>NaN</td>\n",
       "      <td>NaN</td>\n",
       "      <td>NaN</td>\n",
       "      <td>NaN</td>\n",
       "      <td>NaN</td>\n",
       "      <td>NaN</td>\n",
       "    </tr>\n",
       "    <tr>\n",
       "      <th>5</th>\n",
       "      <td>NaN</td>\n",
       "      <td>NaN</td>\n",
       "      <td>NaN</td>\n",
       "      <td>NaN</td>\n",
       "      <td>NaN</td>\n",
       "      <td>NaN</td>\n",
       "      <td>NaN</td>\n",
       "    </tr>\n",
       "    <tr>\n",
       "      <th>6</th>\n",
       "      <td>NaN</td>\n",
       "      <td>NaN</td>\n",
       "      <td>NaN</td>\n",
       "      <td>NaN</td>\n",
       "      <td>NaN</td>\n",
       "      <td>NaN</td>\n",
       "      <td>NaN</td>\n",
       "    </tr>\n",
       "    <tr>\n",
       "      <th>7</th>\n",
       "      <td>NaN</td>\n",
       "      <td>NaN</td>\n",
       "      <td>NaN</td>\n",
       "      <td>NaN</td>\n",
       "      <td>NaN</td>\n",
       "      <td>NaN</td>\n",
       "      <td>NaN</td>\n",
       "    </tr>\n",
       "    <tr>\n",
       "      <th>8</th>\n",
       "      <td>NaN</td>\n",
       "      <td>NaN</td>\n",
       "      <td>NaN</td>\n",
       "      <td>NaN</td>\n",
       "      <td>NaN</td>\n",
       "      <td>NaN</td>\n",
       "      <td>NaN</td>\n",
       "    </tr>\n",
       "    <tr>\n",
       "      <th>9</th>\n",
       "      <td>NaN</td>\n",
       "      <td>NaN</td>\n",
       "      <td>NaN</td>\n",
       "      <td>NaN</td>\n",
       "      <td>NaN</td>\n",
       "      <td>NaN</td>\n",
       "      <td>NaN</td>\n",
       "    </tr>\n",
       "    <tr>\n",
       "      <th>10</th>\n",
       "      <td>NaN</td>\n",
       "      <td>NaN</td>\n",
       "      <td>NaN</td>\n",
       "      <td>NaN</td>\n",
       "      <td>NaN</td>\n",
       "      <td>NaN</td>\n",
       "      <td>NaN</td>\n",
       "    </tr>\n",
       "    <tr>\n",
       "      <th>11</th>\n",
       "      <td>NaN</td>\n",
       "      <td>NaN</td>\n",
       "      <td>NaN</td>\n",
       "      <td>NaN</td>\n",
       "      <td>NaN</td>\n",
       "      <td>NaN</td>\n",
       "      <td>NaN</td>\n",
       "    </tr>\n",
       "  </tbody>\n",
       "</table>\n",
       "</div>"
      ],
      "text/plain": [
       "   SCname CurSwPNum MaxSwPNum CurGymPNum MaxGymPNum  Day Time\n",
       "1     NaN       NaN       NaN        NaN        NaN  NaN  NaN\n",
       "2     NaN       NaN       NaN        NaN        NaN  NaN  NaN\n",
       "3     NaN       NaN       NaN        NaN        NaN  NaN  NaN\n",
       "4     NaN       NaN       NaN        NaN        NaN  NaN  NaN\n",
       "5     NaN       NaN       NaN        NaN        NaN  NaN  NaN\n",
       "6     NaN       NaN       NaN        NaN        NaN  NaN  NaN\n",
       "7     NaN       NaN       NaN        NaN        NaN  NaN  NaN\n",
       "8     NaN       NaN       NaN        NaN        NaN  NaN  NaN\n",
       "9     NaN       NaN       NaN        NaN        NaN  NaN  NaN\n",
       "10    NaN       NaN       NaN        NaN        NaN  NaN  NaN\n",
       "11    NaN       NaN       NaN        NaN        NaN  NaN  NaN"
      ]
     },
     "execution_count": 48,
     "metadata": {},
     "output_type": "execute_result"
    }
   ],
   "source": [
    "df = pd.DataFrame()\n",
    "idx = list(range(1,12))\n",
    "df = pd.DataFrame(columns=[\"SCname\", \"CurSwPNum\", \"MaxSwPNum\", \"CurGymPNum\", \"MaxGymPNum\", \"Day\", \"Time\"],index=idx)\n",
    "df\n"
   ]
  },
  {
   "cell_type": "code",
   "execution_count": 49,
   "metadata": {},
   "outputs": [
    {
     "data": {
      "text/plain": [
       "pandas.core.series.Series"
      ]
     },
     "execution_count": 49,
     "metadata": {},
     "output_type": "execute_result"
    }
   ],
   "source": [
    "type(df[\"SCname\"])"
   ]
  },
  {
   "cell_type": "code",
   "execution_count": 55,
   "metadata": {},
   "outputs": [
    {
     "data": {
      "text/html": [
       "<div>\n",
       "<style scoped>\n",
       "    .dataframe tbody tr th:only-of-type {\n",
       "        vertical-align: middle;\n",
       "    }\n",
       "\n",
       "    .dataframe tbody tr th {\n",
       "        vertical-align: top;\n",
       "    }\n",
       "\n",
       "    .dataframe thead th {\n",
       "        text-align: right;\n",
       "    }\n",
       "</style>\n",
       "<table border=\"1\" class=\"dataframe\">\n",
       "  <thead>\n",
       "    <tr style=\"text-align: right;\">\n",
       "      <th></th>\n",
       "      <th>SCname</th>\n",
       "      <th>CurSwPNum</th>\n",
       "      <th>MaxSwPNum</th>\n",
       "      <th>CurGymPNum</th>\n",
       "      <th>MaxGymPNum</th>\n",
       "      <th>Day</th>\n",
       "      <th>Time</th>\n",
       "    </tr>\n",
       "  </thead>\n",
       "  <tbody>\n",
       "    <tr>\n",
       "      <th>1</th>\n",
       "      <td>(北投運動中心,)</td>\n",
       "      <td>(303,)</td>\n",
       "      <td>(200,)</td>\n",
       "      <td>(17,)</td>\n",
       "      <td>(60,)</td>\n",
       "      <td>(2023/10/23 Mon,)</td>\n",
       "      <td>15:47:07</td>\n",
       "    </tr>\n",
       "    <tr>\n",
       "      <th>2</th>\n",
       "      <td>(大同運動中心,)</td>\n",
       "      <td>(67,)</td>\n",
       "      <td>(250,)</td>\n",
       "      <td>(29,)</td>\n",
       "      <td>(90,)</td>\n",
       "      <td>(2023/10/23 Mon,)</td>\n",
       "      <td>15:47:07</td>\n",
       "    </tr>\n",
       "    <tr>\n",
       "      <th>3</th>\n",
       "      <td>(中正運動中心,)</td>\n",
       "      <td>(76,)</td>\n",
       "      <td>(250,)</td>\n",
       "      <td>(33,)</td>\n",
       "      <td>(100,)</td>\n",
       "      <td>(2023/10/23 Mon,)</td>\n",
       "      <td>15:47:07</td>\n",
       "    </tr>\n",
       "    <tr>\n",
       "      <th>4</th>\n",
       "      <td>(南港運動中心,)</td>\n",
       "      <td>(80,)</td>\n",
       "      <td>(200,)</td>\n",
       "      <td>(41,)</td>\n",
       "      <td>(110,)</td>\n",
       "      <td>(2023/10/23 Mon,)</td>\n",
       "      <td>15:47:07</td>\n",
       "    </tr>\n",
       "    <tr>\n",
       "      <th>5</th>\n",
       "      <td>(內湖運動中心,)</td>\n",
       "      <td>(69,)</td>\n",
       "      <td>(200,)</td>\n",
       "      <td>(33,)</td>\n",
       "      <td>(130,)</td>\n",
       "      <td>(2023/10/23 Mon,)</td>\n",
       "      <td>15:47:07</td>\n",
       "    </tr>\n",
       "    <tr>\n",
       "      <th>6</th>\n",
       "      <td>(士林運動中心,)</td>\n",
       "      <td>(57,)</td>\n",
       "      <td>(200,)</td>\n",
       "      <td>(36,)</td>\n",
       "      <td>(100,)</td>\n",
       "      <td>(2023/10/23 Mon,)</td>\n",
       "      <td>15:47:07</td>\n",
       "    </tr>\n",
       "    <tr>\n",
       "      <th>7</th>\n",
       "      <td>(松山運動中心,)</td>\n",
       "      <td>(0,)</td>\n",
       "      <td>(400,)</td>\n",
       "      <td>(0,)</td>\n",
       "      <td>(100,)</td>\n",
       "      <td>(2023/10/23 Mon,)</td>\n",
       "      <td>15:47:07</td>\n",
       "    </tr>\n",
       "    <tr>\n",
       "      <th>8</th>\n",
       "      <td>(虛擬北市運動,)</td>\n",
       "      <td>(0,)</td>\n",
       "      <td>(0,)</td>\n",
       "      <td>(0,)</td>\n",
       "      <td>(0,)</td>\n",
       "      <td>(2023/10/23 Mon,)</td>\n",
       "      <td>15:47:07</td>\n",
       "    </tr>\n",
       "    <tr>\n",
       "      <th>9</th>\n",
       "      <td>(萬華運動中心,)</td>\n",
       "      <td>(69,)</td>\n",
       "      <td>(100,)</td>\n",
       "      <td>(54,)</td>\n",
       "      <td>(200,)</td>\n",
       "      <td>(2023/10/23 Mon,)</td>\n",
       "      <td>15:47:07</td>\n",
       "    </tr>\n",
       "    <tr>\n",
       "      <th>10</th>\n",
       "      <td>(文山運動中心,)</td>\n",
       "      <td>(1,)</td>\n",
       "      <td>(200,)</td>\n",
       "      <td>(29,)</td>\n",
       "      <td>(85,)</td>\n",
       "      <td>(2023/10/23 Mon,)</td>\n",
       "      <td>15:47:07</td>\n",
       "    </tr>\n",
       "    <tr>\n",
       "      <th>11</th>\n",
       "      <td>(中山運動中心,)</td>\n",
       "      <td>(40,)</td>\n",
       "      <td>(150,)</td>\n",
       "      <td>(27,)</td>\n",
       "      <td>(50,)</td>\n",
       "      <td>(2023/10/23 Mon,)</td>\n",
       "      <td>15:47:07</td>\n",
       "    </tr>\n",
       "  </tbody>\n",
       "</table>\n",
       "</div>"
      ],
      "text/plain": [
       "       SCname CurSwPNum MaxSwPNum CurGymPNum MaxGymPNum                Day  \\\n",
       "1   (北投運動中心,)    (303,)    (200,)      (17,)      (60,)  (2023/10/23 Mon,)   \n",
       "2   (大同運動中心,)     (67,)    (250,)      (29,)      (90,)  (2023/10/23 Mon,)   \n",
       "3   (中正運動中心,)     (76,)    (250,)      (33,)     (100,)  (2023/10/23 Mon,)   \n",
       "4   (南港運動中心,)     (80,)    (200,)      (41,)     (110,)  (2023/10/23 Mon,)   \n",
       "5   (內湖運動中心,)     (69,)    (200,)      (33,)     (130,)  (2023/10/23 Mon,)   \n",
       "6   (士林運動中心,)     (57,)    (200,)      (36,)     (100,)  (2023/10/23 Mon,)   \n",
       "7   (松山運動中心,)      (0,)    (400,)       (0,)     (100,)  (2023/10/23 Mon,)   \n",
       "8   (虛擬北市運動,)      (0,)      (0,)       (0,)       (0,)  (2023/10/23 Mon,)   \n",
       "9   (萬華運動中心,)     (69,)    (100,)      (54,)     (200,)  (2023/10/23 Mon,)   \n",
       "10  (文山運動中心,)      (1,)    (200,)      (29,)      (85,)  (2023/10/23 Mon,)   \n",
       "11  (中山運動中心,)     (40,)    (150,)      (27,)      (50,)  (2023/10/23 Mon,)   \n",
       "\n",
       "        Time  \n",
       "1   15:47:07  \n",
       "2   15:47:07  \n",
       "3   15:47:07  \n",
       "4   15:47:07  \n",
       "5   15:47:07  \n",
       "6   15:47:07  \n",
       "7   15:47:07  \n",
       "8   15:47:07  \n",
       "9   15:47:07  \n",
       "10  15:47:07  \n",
       "11  15:47:07  "
      ]
     },
     "execution_count": 55,
     "metadata": {},
     "output_type": "execute_result"
    }
   ],
   "source": [
    "# counts = {\n",
    "#    \"SCname\": rep(NA, 13),\n",
    "#    \"CurSwPNum\": [],\n",
    "#    \"MaxSwPNum\": [],\n",
    "#    \"CurGymPNum\": [],\n",
    "#    \"MaxGymPNum\": [],\n",
    "#    \"Day\": [],\n",
    "#    \"Time\": []\n",
    "#}\n",
    "\n",
    "df = pd.DataFrame()\n",
    "idx = list(range(1,12))\n",
    "df = pd.DataFrame(columns=[\"SCname\", \"CurSwPNum\", \"MaxSwPNum\", \"CurGymPNum\", \"MaxGymPNum\", \"Day\", \"Time\"],index=idx)\n",
    "df\n",
    "#print(type(df))\n",
    "#print(df.info)\n",
    "\n",
    "for i in range(1,12):    \n",
    "    df[\"SCname\"][i] = titles[4*(i)+1].parent.parent.parent.parent.text[0:6],\n",
    "    df[\"CurSwPNum\"][i] = titles[4*(i)+1].text, \n",
    "    df[\"MaxSwPNum\"][i] = titles[(4*(i)+1)+1].text, \n",
    "    df[\"CurGymPNum\"][i] = titles[(4*(i)+1)+2].text, \n",
    "    df[\"MaxGymPNum\"][i] = titles[(4*(i)+1)+3].text,\n",
    "    df[\"Day\"][i] = day, \n",
    "    df[\"Time\"][i] = time\n",
    "    \n",
    "# df[[\"CurSwPNum\", \"MaxSwPNum\", \"CurGymPNum\", \"MaxGymPNum\"]] = df[[\"CurSwPNum\", \"MaxSwPNum\", \"CurGymPNum\", \"MaxGymPNum\"]].apply(pd.to_numeric)\n",
    "df\n"
   ]
  },
  {
   "cell_type": "code",
   "execution_count": 52,
   "metadata": {},
   "outputs": [],
   "source": [
    "df.to_excel(\"counts_try2.xlsx\")"
   ]
  },
  {
   "cell_type": "code",
   "execution_count": 56,
   "metadata": {},
   "outputs": [],
   "source": [
    "import xlwings as xw\n",
    "# 產生新工作簿\n",
    "wb = xw.Book()\n",
    "# 選擇工作表1\n",
    "sheet = wb.sheets[0]\n",
    "# 將 DataFrame 寫入以 A1 為起點 (左上角) 的範圍\n",
    "sheet.range(\"A1\").value = df\n",
    "# 設定工作表名稱\n",
    "sheet.name = \"try\"\n",
    "# 儲存檔案\n",
    "wb.save(\"counts_try1.xlsx\")"
   ]
  },
  {
   "cell_type": "code",
   "execution_count": 98,
   "metadata": {},
   "outputs": [
    {
     "ename": "AttributeError",
     "evalue": "'str' object has no attribute 'value'",
     "output_type": "error",
     "traceback": [
      "\u001b[1;31m---------------------------------------------------------------------------\u001b[0m",
      "\u001b[1;31mAttributeError\u001b[0m                            Traceback (most recent call last)",
      "\u001b[1;32m<ipython-input-98-fa9042157348>\u001b[0m in \u001b[0;36m<module>\u001b[1;34m\u001b[0m\n\u001b[0;32m      1\u001b[0m \u001b[0mi\u001b[0m\u001b[1;33m=\u001b[0m\u001b[1;36m1\u001b[0m\u001b[1;33m\u001b[0m\u001b[1;33m\u001b[0m\u001b[0m\n\u001b[0;32m      2\u001b[0m \u001b[0mtitles\u001b[0m\u001b[1;33m[\u001b[0m\u001b[1;36m4\u001b[0m\u001b[1;33m*\u001b[0m\u001b[1;33m(\u001b[0m\u001b[0mi\u001b[0m\u001b[1;33m+\u001b[0m\u001b[1;36m1\u001b[0m\u001b[1;33m)\u001b[0m\u001b[1;33m+\u001b[0m\u001b[1;36m1\u001b[0m\u001b[1;33m]\u001b[0m\u001b[1;33m.\u001b[0m\u001b[0mparent\u001b[0m\u001b[1;33m.\u001b[0m\u001b[0mparent\u001b[0m\u001b[1;33m.\u001b[0m\u001b[0mparent\u001b[0m\u001b[1;33m.\u001b[0m\u001b[0mparent\u001b[0m\u001b[1;33m.\u001b[0m\u001b[0mtext\u001b[0m\u001b[1;33m[\u001b[0m\u001b[1;36m0\u001b[0m\u001b[1;33m:\u001b[0m\u001b[1;36m6\u001b[0m\u001b[1;33m]\u001b[0m\u001b[1;33m\u001b[0m\u001b[1;33m\u001b[0m\u001b[0m\n\u001b[1;32m----> 3\u001b[1;33m \u001b[0mtitles\u001b[0m\u001b[1;33m[\u001b[0m\u001b[1;36m4\u001b[0m\u001b[1;33m*\u001b[0m\u001b[1;33m(\u001b[0m\u001b[0mi\u001b[0m\u001b[1;33m)\u001b[0m\u001b[1;33m+\u001b[0m\u001b[1;36m1\u001b[0m\u001b[1;33m]\u001b[0m\u001b[1;33m.\u001b[0m\u001b[0mtext\u001b[0m\u001b[1;33m.\u001b[0m\u001b[0mvalue\u001b[0m\u001b[1;33m\u001b[0m\u001b[1;33m\u001b[0m\u001b[0m\n\u001b[0m",
      "\u001b[1;31mAttributeError\u001b[0m: 'str' object has no attribute 'value'"
     ]
    }
   ],
   "source": [
    "i=1\n",
    "titles[4*(i+1)+1].parent.parent.parent.parent.text[0:6]\n",
    "titles[4*(i)+1].text"
   ]
  },
  {
   "cell_type": "code",
   "execution_count": null,
   "metadata": {},
   "outputs": [],
   "source": []
  },
  {
   "cell_type": "code",
   "execution_count": null,
   "metadata": {},
   "outputs": [],
   "source": []
  },
  {
   "cell_type": "code",
   "execution_count": 100,
   "metadata": {},
   "outputs": [
    {
     "data": {
      "text/html": [
       "<div>\n",
       "<style scoped>\n",
       "    .dataframe tbody tr th:only-of-type {\n",
       "        vertical-align: middle;\n",
       "    }\n",
       "\n",
       "    .dataframe tbody tr th {\n",
       "        vertical-align: top;\n",
       "    }\n",
       "\n",
       "    .dataframe thead th {\n",
       "        text-align: right;\n",
       "    }\n",
       "</style>\n",
       "<table border=\"1\" class=\"dataframe\">\n",
       "  <thead>\n",
       "    <tr style=\"text-align: right;\">\n",
       "      <th></th>\n",
       "      <th>SCname</th>\n",
       "      <th>CurSwPNum</th>\n",
       "      <th>MaxSwPNum</th>\n",
       "      <th>CurGymPNum</th>\n",
       "      <th>MaxGymPNum</th>\n",
       "      <th>Day</th>\n",
       "      <th>Time</th>\n",
       "    </tr>\n",
       "  </thead>\n",
       "  <tbody>\n",
       "    <tr>\n",
       "      <th>1</th>\n",
       "      <td>(北投運動中心,)</td>\n",
       "      <td>(0,)</td>\n",
       "      <td>(100,)</td>\n",
       "      <td>(0,)</td>\n",
       "      <td>(80,)</td>\n",
       "      <td>(2021/01/11 Mon,)</td>\n",
       "      <td>22:12:55</td>\n",
       "    </tr>\n",
       "    <tr>\n",
       "      <th>2</th>\n",
       "      <td>(大安運動中心,)</td>\n",
       "      <td>(26,)</td>\n",
       "      <td>(100,)</td>\n",
       "      <td>(0,)</td>\n",
       "      <td>(70,)</td>\n",
       "      <td>(2021/01/11 Mon,)</td>\n",
       "      <td>22:12:55</td>\n",
       "    </tr>\n",
       "    <tr>\n",
       "      <th>3</th>\n",
       "      <td>(大同運動中心,)</td>\n",
       "      <td>(0,)</td>\n",
       "      <td>(100,)</td>\n",
       "      <td>(1,)</td>\n",
       "      <td>(90,)</td>\n",
       "      <td>(2021/01/11 Mon,)</td>\n",
       "      <td>22:12:55</td>\n",
       "    </tr>\n",
       "    <tr>\n",
       "      <th>4</th>\n",
       "      <td>(中正運動中心,)</td>\n",
       "      <td>(20,)</td>\n",
       "      <td>(100,)</td>\n",
       "      <td>(3,)</td>\n",
       "      <td>(90,)</td>\n",
       "      <td>(2021/01/11 Mon,)</td>\n",
       "      <td>22:12:55</td>\n",
       "    </tr>\n",
       "    <tr>\n",
       "      <th>5</th>\n",
       "      <td>(南港運動中心,)</td>\n",
       "      <td>(15,)</td>\n",
       "      <td>(100,)</td>\n",
       "      <td>(0,)</td>\n",
       "      <td>(85,)</td>\n",
       "      <td>(2021/01/11 Mon,)</td>\n",
       "      <td>22:12:55</td>\n",
       "    </tr>\n",
       "    <tr>\n",
       "      <th>6</th>\n",
       "      <td>(內湖運動中心,)</td>\n",
       "      <td>(0,)</td>\n",
       "      <td>(99,)</td>\n",
       "      <td>(10,)</td>\n",
       "      <td>(99,)</td>\n",
       "      <td>(2021/01/11 Mon,)</td>\n",
       "      <td>22:12:55</td>\n",
       "    </tr>\n",
       "    <tr>\n",
       "      <th>7</th>\n",
       "      <td>(士林運動中心,)</td>\n",
       "      <td>(0,)</td>\n",
       "      <td>(100,)</td>\n",
       "      <td>(1,)</td>\n",
       "      <td>(70,)</td>\n",
       "      <td>(2021/01/11 Mon,)</td>\n",
       "      <td>22:12:55</td>\n",
       "    </tr>\n",
       "    <tr>\n",
       "      <th>8</th>\n",
       "      <td>(松山運動中心,)</td>\n",
       "      <td>(0,)</td>\n",
       "      <td>(100,)</td>\n",
       "      <td>(0,)</td>\n",
       "      <td>(100,)</td>\n",
       "      <td>(2021/01/11 Mon,)</td>\n",
       "      <td>22:12:55</td>\n",
       "    </tr>\n",
       "    <tr>\n",
       "      <th>9</th>\n",
       "      <td>(虛擬北市運動,)</td>\n",
       "      <td>(0,)</td>\n",
       "      <td>(0,)</td>\n",
       "      <td>(0,)</td>\n",
       "      <td>(0,)</td>\n",
       "      <td>(2021/01/11 Mon,)</td>\n",
       "      <td>22:12:55</td>\n",
       "    </tr>\n",
       "    <tr>\n",
       "      <th>10</th>\n",
       "      <td>(萬華運動中心,)</td>\n",
       "      <td>(0,)</td>\n",
       "      <td>(100,)</td>\n",
       "      <td>(0,)</td>\n",
       "      <td>(100,)</td>\n",
       "      <td>(2021/01/11 Mon,)</td>\n",
       "      <td>22:12:55</td>\n",
       "    </tr>\n",
       "    <tr>\n",
       "      <th>11</th>\n",
       "      <td>(文山運動中心,)</td>\n",
       "      <td>(0,)</td>\n",
       "      <td>(100,)</td>\n",
       "      <td>(3,)</td>\n",
       "      <td>(80,)</td>\n",
       "      <td>(2021/01/11 Mon,)</td>\n",
       "      <td>22:12:55</td>\n",
       "    </tr>\n",
       "    <tr>\n",
       "      <th>12</th>\n",
       "      <td>(信義運動中心,)</td>\n",
       "      <td>(0,)</td>\n",
       "      <td>(100,)</td>\n",
       "      <td>(1,)</td>\n",
       "      <td>(65,)</td>\n",
       "      <td>(2021/01/11 Mon,)</td>\n",
       "      <td>22:12:55</td>\n",
       "    </tr>\n",
       "    <tr>\n",
       "      <th>13</th>\n",
       "      <td>(中山運動中心,)</td>\n",
       "      <td>(0,)</td>\n",
       "      <td>(100,)</td>\n",
       "      <td>(2,)</td>\n",
       "      <td>(50,)</td>\n",
       "      <td>(2021/01/11 Mon,)</td>\n",
       "      <td>22:12:55</td>\n",
       "    </tr>\n",
       "  </tbody>\n",
       "</table>\n",
       "</div>"
      ],
      "text/plain": [
       "       SCname CurSwPNum MaxSwPNum CurGymPNum MaxGymPNum                Day  \\\n",
       "1   (北投運動中心,)      (0,)    (100,)       (0,)      (80,)  (2021/01/11 Mon,)   \n",
       "2   (大安運動中心,)     (26,)    (100,)       (0,)      (70,)  (2021/01/11 Mon,)   \n",
       "3   (大同運動中心,)      (0,)    (100,)       (1,)      (90,)  (2021/01/11 Mon,)   \n",
       "4   (中正運動中心,)     (20,)    (100,)       (3,)      (90,)  (2021/01/11 Mon,)   \n",
       "5   (南港運動中心,)     (15,)    (100,)       (0,)      (85,)  (2021/01/11 Mon,)   \n",
       "6   (內湖運動中心,)      (0,)     (99,)      (10,)      (99,)  (2021/01/11 Mon,)   \n",
       "7   (士林運動中心,)      (0,)    (100,)       (1,)      (70,)  (2021/01/11 Mon,)   \n",
       "8   (松山運動中心,)      (0,)    (100,)       (0,)     (100,)  (2021/01/11 Mon,)   \n",
       "9   (虛擬北市運動,)      (0,)      (0,)       (0,)       (0,)  (2021/01/11 Mon,)   \n",
       "10  (萬華運動中心,)      (0,)    (100,)       (0,)     (100,)  (2021/01/11 Mon,)   \n",
       "11  (文山運動中心,)      (0,)    (100,)       (3,)      (80,)  (2021/01/11 Mon,)   \n",
       "12  (信義運動中心,)      (0,)    (100,)       (1,)      (65,)  (2021/01/11 Mon,)   \n",
       "13  (中山運動中心,)      (0,)    (100,)       (2,)      (50,)  (2021/01/11 Mon,)   \n",
       "\n",
       "        Time  \n",
       "1   22:12:55  \n",
       "2   22:12:55  \n",
       "3   22:12:55  \n",
       "4   22:12:55  \n",
       "5   22:12:55  \n",
       "6   22:12:55  \n",
       "7   22:12:55  \n",
       "8   22:12:55  \n",
       "9   22:12:55  \n",
       "10  22:12:55  \n",
       "11  22:12:55  \n",
       "12  22:12:55  \n",
       "13  22:12:55  "
      ]
     },
     "execution_count": 100,
     "metadata": {},
     "output_type": "execute_result"
    }
   ],
   "source": [
    "df2 = df\n",
    "df2"
   ]
  },
  {
   "cell_type": "code",
   "execution_count": 94,
   "metadata": {},
   "outputs": [
    {
     "data": {
      "text/plain": [
       "1      0\n",
       "2     26\n",
       "3      0\n",
       "4     20\n",
       "5     15\n",
       "6      0\n",
       "7      0\n",
       "8      0\n",
       "9      0\n",
       "10     0\n",
       "11     0\n",
       "12     0\n",
       "13     0\n",
       "Name: CurSwPNum, dtype: int64"
      ]
     },
     "execution_count": 94,
     "metadata": {},
     "output_type": "execute_result"
    }
   ],
   "source": [
    "df2['CurSwPNum'].apply(lambda x: list(x)[0] if isinstance(x,tuple) else x)"
   ]
  },
  {
   "cell_type": "code",
   "execution_count": 101,
   "metadata": {},
   "outputs": [
    {
     "data": {
      "text/html": [
       "<div>\n",
       "<style scoped>\n",
       "    .dataframe tbody tr th:only-of-type {\n",
       "        vertical-align: middle;\n",
       "    }\n",
       "\n",
       "    .dataframe tbody tr th {\n",
       "        vertical-align: top;\n",
       "    }\n",
       "\n",
       "    .dataframe thead th {\n",
       "        text-align: right;\n",
       "    }\n",
       "</style>\n",
       "<table border=\"1\" class=\"dataframe\">\n",
       "  <thead>\n",
       "    <tr style=\"text-align: right;\">\n",
       "      <th></th>\n",
       "      <th>SCname</th>\n",
       "      <th>CurSwPNum</th>\n",
       "      <th>MaxSwPNum</th>\n",
       "      <th>CurGymPNum</th>\n",
       "      <th>MaxGymPNum</th>\n",
       "      <th>Day</th>\n",
       "      <th>Time</th>\n",
       "    </tr>\n",
       "  </thead>\n",
       "  <tbody>\n",
       "    <tr>\n",
       "      <th>1</th>\n",
       "      <td>北投運動中心</td>\n",
       "      <td>0</td>\n",
       "      <td>100</td>\n",
       "      <td>0</td>\n",
       "      <td>80</td>\n",
       "      <td>2021/01/11 Mon</td>\n",
       "      <td>22:12:55</td>\n",
       "    </tr>\n",
       "    <tr>\n",
       "      <th>2</th>\n",
       "      <td>大安運動中心</td>\n",
       "      <td>26</td>\n",
       "      <td>100</td>\n",
       "      <td>0</td>\n",
       "      <td>70</td>\n",
       "      <td>2021/01/11 Mon</td>\n",
       "      <td>22:12:55</td>\n",
       "    </tr>\n",
       "    <tr>\n",
       "      <th>3</th>\n",
       "      <td>大同運動中心</td>\n",
       "      <td>0</td>\n",
       "      <td>100</td>\n",
       "      <td>1</td>\n",
       "      <td>90</td>\n",
       "      <td>2021/01/11 Mon</td>\n",
       "      <td>22:12:55</td>\n",
       "    </tr>\n",
       "    <tr>\n",
       "      <th>4</th>\n",
       "      <td>中正運動中心</td>\n",
       "      <td>20</td>\n",
       "      <td>100</td>\n",
       "      <td>3</td>\n",
       "      <td>90</td>\n",
       "      <td>2021/01/11 Mon</td>\n",
       "      <td>22:12:55</td>\n",
       "    </tr>\n",
       "    <tr>\n",
       "      <th>5</th>\n",
       "      <td>南港運動中心</td>\n",
       "      <td>15</td>\n",
       "      <td>100</td>\n",
       "      <td>0</td>\n",
       "      <td>85</td>\n",
       "      <td>2021/01/11 Mon</td>\n",
       "      <td>22:12:55</td>\n",
       "    </tr>\n",
       "    <tr>\n",
       "      <th>6</th>\n",
       "      <td>內湖運動中心</td>\n",
       "      <td>0</td>\n",
       "      <td>99</td>\n",
       "      <td>10</td>\n",
       "      <td>99</td>\n",
       "      <td>2021/01/11 Mon</td>\n",
       "      <td>22:12:55</td>\n",
       "    </tr>\n",
       "    <tr>\n",
       "      <th>7</th>\n",
       "      <td>士林運動中心</td>\n",
       "      <td>0</td>\n",
       "      <td>100</td>\n",
       "      <td>1</td>\n",
       "      <td>70</td>\n",
       "      <td>2021/01/11 Mon</td>\n",
       "      <td>22:12:55</td>\n",
       "    </tr>\n",
       "    <tr>\n",
       "      <th>8</th>\n",
       "      <td>松山運動中心</td>\n",
       "      <td>0</td>\n",
       "      <td>100</td>\n",
       "      <td>0</td>\n",
       "      <td>100</td>\n",
       "      <td>2021/01/11 Mon</td>\n",
       "      <td>22:12:55</td>\n",
       "    </tr>\n",
       "    <tr>\n",
       "      <th>9</th>\n",
       "      <td>虛擬北市運動</td>\n",
       "      <td>0</td>\n",
       "      <td>0</td>\n",
       "      <td>0</td>\n",
       "      <td>0</td>\n",
       "      <td>2021/01/11 Mon</td>\n",
       "      <td>22:12:55</td>\n",
       "    </tr>\n",
       "    <tr>\n",
       "      <th>10</th>\n",
       "      <td>萬華運動中心</td>\n",
       "      <td>0</td>\n",
       "      <td>100</td>\n",
       "      <td>0</td>\n",
       "      <td>100</td>\n",
       "      <td>2021/01/11 Mon</td>\n",
       "      <td>22:12:55</td>\n",
       "    </tr>\n",
       "    <tr>\n",
       "      <th>11</th>\n",
       "      <td>文山運動中心</td>\n",
       "      <td>0</td>\n",
       "      <td>100</td>\n",
       "      <td>3</td>\n",
       "      <td>80</td>\n",
       "      <td>2021/01/11 Mon</td>\n",
       "      <td>22:12:55</td>\n",
       "    </tr>\n",
       "    <tr>\n",
       "      <th>12</th>\n",
       "      <td>信義運動中心</td>\n",
       "      <td>0</td>\n",
       "      <td>100</td>\n",
       "      <td>1</td>\n",
       "      <td>65</td>\n",
       "      <td>2021/01/11 Mon</td>\n",
       "      <td>22:12:55</td>\n",
       "    </tr>\n",
       "    <tr>\n",
       "      <th>13</th>\n",
       "      <td>中山運動中心</td>\n",
       "      <td>0</td>\n",
       "      <td>100</td>\n",
       "      <td>2</td>\n",
       "      <td>50</td>\n",
       "      <td>2021/01/11 Mon</td>\n",
       "      <td>22:12:55</td>\n",
       "    </tr>\n",
       "  </tbody>\n",
       "</table>\n",
       "</div>"
      ],
      "text/plain": [
       "    SCname  CurSwPNum  MaxSwPNum  CurGymPNum  MaxGymPNum             Day  \\\n",
       "1   北投運動中心          0        100           0          80  2021/01/11 Mon   \n",
       "2   大安運動中心         26        100           0          70  2021/01/11 Mon   \n",
       "3   大同運動中心          0        100           1          90  2021/01/11 Mon   \n",
       "4   中正運動中心         20        100           3          90  2021/01/11 Mon   \n",
       "5   南港運動中心         15        100           0          85  2021/01/11 Mon   \n",
       "6   內湖運動中心          0         99          10          99  2021/01/11 Mon   \n",
       "7   士林運動中心          0        100           1          70  2021/01/11 Mon   \n",
       "8   松山運動中心          0        100           0         100  2021/01/11 Mon   \n",
       "9   虛擬北市運動          0          0           0           0  2021/01/11 Mon   \n",
       "10  萬華運動中心          0        100           0         100  2021/01/11 Mon   \n",
       "11  文山運動中心          0        100           3          80  2021/01/11 Mon   \n",
       "12  信義運動中心          0        100           1          65  2021/01/11 Mon   \n",
       "13  中山運動中心          0        100           2          50  2021/01/11 Mon   \n",
       "\n",
       "        Time  \n",
       "1   22:12:55  \n",
       "2   22:12:55  \n",
       "3   22:12:55  \n",
       "4   22:12:55  \n",
       "5   22:12:55  \n",
       "6   22:12:55  \n",
       "7   22:12:55  \n",
       "8   22:12:55  \n",
       "9   22:12:55  \n",
       "10  22:12:55  \n",
       "11  22:12:55  \n",
       "12  22:12:55  \n",
       "13  22:12:55  "
      ]
     },
     "execution_count": 101,
     "metadata": {},
     "output_type": "execute_result"
    }
   ],
   "source": [
    "df2['SCname'] = df2['SCname'].apply(lambda x: ''.join(x) if isinstance(x,tuple) else x)\n",
    "df2['CurSwPNum'] = df2['CurSwPNum'].apply(lambda x: int(list(x)[0]) if isinstance(x,tuple) else x)\n",
    "df2['MaxSwPNum'] = df2['MaxSwPNum'].apply(lambda x: int(list(x)[0]) if isinstance(x,tuple) else x)\n",
    "df2['CurGymPNum'] = df2['CurGymPNum'].apply(lambda x: int(list(x)[0]) if isinstance(x,tuple) else x)\n",
    "df2['MaxGymPNum'] = df2['MaxGymPNum'].apply(lambda x: int(list(x)[0]) if isinstance(x,tuple) else x)\n",
    "df2['Day'] = df2['Day'].apply(lambda x: ''.join(x) if isinstance(x,tuple) else x)\n",
    "df2"
   ]
  },
  {
   "cell_type": "code",
   "execution_count": 102,
   "metadata": {},
   "outputs": [
    {
     "name": "stdout",
     "output_type": "stream",
     "text": [
      "大安運動中心\n",
      "<class 'str'>\n"
     ]
    }
   ],
   "source": [
    "print(df2[\"SCname\"].values[1])\n",
    "print(type(df2[\"SCname\"].values[1]))"
   ]
  },
  {
   "cell_type": "code",
   "execution_count": 103,
   "metadata": {},
   "outputs": [
    {
     "name": "stdout",
     "output_type": "stream",
     "text": [
      "26\n",
      "<class 'numpy.int64'>\n"
     ]
    }
   ],
   "source": [
    "print(df2[\"CurSwPNum\"].values[1])\n",
    "print(type(df2[\"CurSwPNum\"].values[1]))"
   ]
  },
  {
   "cell_type": "code",
   "execution_count": null,
   "metadata": {},
   "outputs": [],
   "source": [
    "df2['SCname'] = df2['SCname'].apply(lambda x: list(x) if isinstance(x,tuple) else x)\n",
    "df2['CurSwPNum'] = df2['CurSwPNum'].apply(lambda x: ''.join(x) if isinstance(x,tuple) else x)\n",
    "df2['MaxSwPNum'] = df2['MaxSwPNum'].apply(lambda x: ''.join(x) if isinstance(x,tuple) else x)\n",
    "df2['CurGymPNum'] = df2['CurGymPNum'].apply(lambda x: ''.join(x) if isinstance(x,tuple) else x)\n",
    "df2['MaxGymPNum'] = df2['MaxGymPNum'].apply(lambda x: ''.join(x) if isinstance(x,tuple) else x)\n",
    "df2['Day'] = df2['Day'].apply(lambda x: ''.join(x) if isinstance(x,tuple) else x)\n",
    "df2"
   ]
  },
  {
   "cell_type": "code",
   "execution_count": 68,
   "metadata": {},
   "outputs": [
    {
     "data": {
      "text/plain": [
       "1     ['北投運動中心']\n",
       "2     ['大安運動中心']\n",
       "3     ['大同運動中心']\n",
       "4     ['中正運動中心']\n",
       "5     ['南港運動中心']\n",
       "6     ['內湖運動中心']\n",
       "7     ['士林運動中心']\n",
       "8     ['松山運動中心']\n",
       "9     ['虛擬北市運動']\n",
       "10    ['萬華運動中心']\n",
       "11    ['文山運動中心']\n",
       "12    ['信義運動中心']\n",
       "13    ['中山運動中心']\n",
       "Name: SCname, dtype: object"
      ]
     },
     "execution_count": 68,
     "metadata": {},
     "output_type": "execute_result"
    }
   ],
   "source": [
    "df2['SCname'].apply(lambda x: str(list(x)) if isinstance(x,tuple) else x)\n"
   ]
  },
  {
   "cell_type": "code",
   "execution_count": 12,
   "metadata": {},
   "outputs": [
    {
     "data": {
      "text/plain": [
       "pandas.core.series.Series"
      ]
     },
     "execution_count": 12,
     "metadata": {},
     "output_type": "execute_result"
    }
   ],
   "source": [
    "type(df2[\"SCname\"])"
   ]
  },
  {
   "cell_type": "code",
   "execution_count": 25,
   "metadata": {},
   "outputs": [
    {
     "data": {
      "text/plain": [
       "array([('北投運動中心',), ('大安運動中心',), ('大同運動中心',), ('中正運動中心',), ('南港運動中心',),\n",
       "       ('內湖運動中心',), ('士林運動中心',), ('松山運動中心',), ('虛擬北市運動',), ('萬華運動中心',),\n",
       "       ('文山運動中心',), ('信義運動中心',), ('中山運動中心',)], dtype=object)"
      ]
     },
     "execution_count": 25,
     "metadata": {},
     "output_type": "execute_result"
    }
   ],
   "source": [
    "df2[\"SCname\"].values"
   ]
  },
  {
   "cell_type": "code",
   "execution_count": 24,
   "metadata": {},
   "outputs": [
    {
     "data": {
      "text/plain": [
       "numpy.ndarray"
      ]
     },
     "execution_count": 24,
     "metadata": {},
     "output_type": "execute_result"
    }
   ],
   "source": [
    "type(df2[\"SCname\"].values)"
   ]
  },
  {
   "cell_type": "code",
   "execution_count": 28,
   "metadata": {},
   "outputs": [
    {
     "data": {
      "text/plain": [
       "('大安運動中心',)"
      ]
     },
     "execution_count": 28,
     "metadata": {},
     "output_type": "execute_result"
    }
   ],
   "source": [
    "df2[\"SCname\"].values[1]"
   ]
  },
  {
   "cell_type": "code",
   "execution_count": 29,
   "metadata": {},
   "outputs": [
    {
     "data": {
      "text/plain": [
       "tuple"
      ]
     },
     "execution_count": 29,
     "metadata": {},
     "output_type": "execute_result"
    }
   ],
   "source": [
    "type(df2[\"SCname\"].values[1])"
   ]
  },
  {
   "cell_type": "code",
   "execution_count": 34,
   "metadata": {},
   "outputs": [
    {
     "data": {
      "text/plain": [
       "'大安運動中心'"
      ]
     },
     "execution_count": 34,
     "metadata": {},
     "output_type": "execute_result"
    }
   ],
   "source": [
    "df2[\"SCname\"].values[1][0]"
   ]
  },
  {
   "cell_type": "code",
   "execution_count": 48,
   "metadata": {},
   "outputs": [
    {
     "name": "stdout",
     "output_type": "stream",
     "text": [
      "(1,)\n",
      "[1]\n",
      "[1]\n"
     ]
    },
    {
     "ename": "ValueError",
     "evalue": "invalid literal for int() with base 10: '[1]'",
     "output_type": "error",
     "traceback": [
      "\u001b[1;31m---------------------------------------------------------------------------\u001b[0m",
      "\u001b[1;31mValueError\u001b[0m                                Traceback (most recent call last)",
      "\u001b[1;32m<ipython-input-48-8237e6a1d235>\u001b[0m in \u001b[0;36m<module>\u001b[1;34m\u001b[0m\n\u001b[0;32m      3\u001b[0m \u001b[0mprint\u001b[0m\u001b[1;33m(\u001b[0m\u001b[0mlist\u001b[0m\u001b[1;33m(\u001b[0m\u001b[0mtt\u001b[0m\u001b[1;33m)\u001b[0m\u001b[1;33m)\u001b[0m\u001b[1;33m\u001b[0m\u001b[1;33m\u001b[0m\u001b[0m\n\u001b[0;32m      4\u001b[0m \u001b[0mprint\u001b[0m\u001b[1;33m(\u001b[0m\u001b[0mstr\u001b[0m\u001b[1;33m(\u001b[0m\u001b[0mlist\u001b[0m\u001b[1;33m(\u001b[0m\u001b[0mtt\u001b[0m\u001b[1;33m)\u001b[0m\u001b[1;33m)\u001b[0m\u001b[1;33m)\u001b[0m\u001b[1;33m\u001b[0m\u001b[1;33m\u001b[0m\u001b[0m\n\u001b[1;32m----> 5\u001b[1;33m \u001b[0mprint\u001b[0m\u001b[1;33m(\u001b[0m\u001b[0mint\u001b[0m\u001b[1;33m(\u001b[0m\u001b[0mstr\u001b[0m\u001b[1;33m(\u001b[0m\u001b[0mlist\u001b[0m\u001b[1;33m(\u001b[0m\u001b[0mtt\u001b[0m\u001b[1;33m)\u001b[0m\u001b[1;33m)\u001b[0m\u001b[1;33m)\u001b[0m\u001b[1;33m)\u001b[0m\u001b[1;33m\u001b[0m\u001b[1;33m\u001b[0m\u001b[0m\n\u001b[0m",
      "\u001b[1;31mValueError\u001b[0m: invalid literal for int() with base 10: '[1]'"
     ]
    }
   ],
   "source": [
    "tt = 1,\n",
    "print(tt)\n",
    "print(list(tt))\n",
    "print(str(list(tt)))"
   ]
  },
  {
   "cell_type": "code",
   "execution_count": 44,
   "metadata": {},
   "outputs": [
    {
     "data": {
      "text/plain": [
       "SCname        object\n",
       "CurSwPNum     object\n",
       "MaxSwPNum     object\n",
       "CurGymPNum    object\n",
       "MaxGymPNum    object\n",
       "Day           object\n",
       "Time          object\n",
       "dtype: object"
      ]
     },
     "execution_count": 44,
     "metadata": {},
     "output_type": "execute_result"
    }
   ],
   "source": [
    "df2.dtypes"
   ]
  },
  {
   "cell_type": "code",
   "execution_count": 49,
   "metadata": {},
   "outputs": [
    {
     "data": {
      "text/plain": [
       "[('北投運動中心',),\n",
       " ('大安運動中心',),\n",
       " ('大同運動中心',),\n",
       " ('中正運動中心',),\n",
       " ('南港運動中心',),\n",
       " ('內湖運動中心',),\n",
       " ('士林運動中心',),\n",
       " ('松山運動中心',),\n",
       " ('虛擬北市運動',),\n",
       " ('萬華運動中心',),\n",
       " ('文山運動中心',),\n",
       " ('信義運動中心',),\n",
       " ('中山運動中心',)]"
      ]
     },
     "execution_count": 49,
     "metadata": {},
     "output_type": "execute_result"
    }
   ],
   "source": [
    "list(df2[\"SCname\"].values)"
   ]
  },
  {
   "cell_type": "code",
   "execution_count": 51,
   "metadata": {},
   "outputs": [
    {
     "data": {
      "text/plain": [
       "1     北投運動中心\n",
       "2     大安運動中心\n",
       "3     大同運動中心\n",
       "4     中正運動中心\n",
       "5     南港運動中心\n",
       "6     內湖運動中心\n",
       "7     士林運動中心\n",
       "8     松山運動中心\n",
       "9     虛擬北市運動\n",
       "10    萬華運動中心\n",
       "11    文山運動中心\n",
       "12    信義運動中心\n",
       "13    中山運動中心\n",
       "Name: SCname, dtype: object"
      ]
     },
     "execution_count": 51,
     "metadata": {},
     "output_type": "execute_result"
    }
   ],
   "source": [
    "df2['SCname'].apply(lambda x: ''.join(x) if isinstance(x,tuple) else x)"
   ]
  },
  {
   "cell_type": "code",
   "execution_count": null,
   "metadata": {},
   "outputs": [],
   "source": []
  },
  {
   "cell_type": "code",
   "execution_count": 43,
   "metadata": {},
   "outputs": [
    {
     "data": {
      "text/html": [
       "<div>\n",
       "<style scoped>\n",
       "    .dataframe tbody tr th:only-of-type {\n",
       "        vertical-align: middle;\n",
       "    }\n",
       "\n",
       "    .dataframe tbody tr th {\n",
       "        vertical-align: top;\n",
       "    }\n",
       "\n",
       "    .dataframe thead th {\n",
       "        text-align: right;\n",
       "    }\n",
       "</style>\n",
       "<table border=\"1\" class=\"dataframe\">\n",
       "  <thead>\n",
       "    <tr style=\"text-align: right;\">\n",
       "      <th></th>\n",
       "      <th>SCname</th>\n",
       "      <th>CurSwPNum</th>\n",
       "      <th>MaxSwPNum</th>\n",
       "      <th>CurGymPNum</th>\n",
       "      <th>MaxGymPNum</th>\n",
       "      <th>Day</th>\n",
       "      <th>Time</th>\n",
       "    </tr>\n",
       "  </thead>\n",
       "  <tbody>\n",
       "    <tr>\n",
       "      <th>1</th>\n",
       "      <td>(北投運動中心,)</td>\n",
       "      <td>([0],)</td>\n",
       "      <td>(100,)</td>\n",
       "      <td>(0,)</td>\n",
       "      <td>(80,)</td>\n",
       "      <td>(2021/01/11 Mon,)</td>\n",
       "      <td>22:12:55</td>\n",
       "    </tr>\n",
       "    <tr>\n",
       "      <th>2</th>\n",
       "      <td>(大安運動中心,)</td>\n",
       "      <td>([2, 6],)</td>\n",
       "      <td>(100,)</td>\n",
       "      <td>(0,)</td>\n",
       "      <td>(70,)</td>\n",
       "      <td>(2021/01/11 Mon,)</td>\n",
       "      <td>22:12:55</td>\n",
       "    </tr>\n",
       "    <tr>\n",
       "      <th>3</th>\n",
       "      <td>(大同運動中心,)</td>\n",
       "      <td>([0],)</td>\n",
       "      <td>(100,)</td>\n",
       "      <td>(1,)</td>\n",
       "      <td>(90,)</td>\n",
       "      <td>(2021/01/11 Mon,)</td>\n",
       "      <td>22:12:55</td>\n",
       "    </tr>\n",
       "    <tr>\n",
       "      <th>4</th>\n",
       "      <td>(中正運動中心,)</td>\n",
       "      <td>([2, 0],)</td>\n",
       "      <td>(100,)</td>\n",
       "      <td>(3,)</td>\n",
       "      <td>(90,)</td>\n",
       "      <td>(2021/01/11 Mon,)</td>\n",
       "      <td>22:12:55</td>\n",
       "    </tr>\n",
       "    <tr>\n",
       "      <th>5</th>\n",
       "      <td>(南港運動中心,)</td>\n",
       "      <td>([1, 5],)</td>\n",
       "      <td>(100,)</td>\n",
       "      <td>(0,)</td>\n",
       "      <td>(85,)</td>\n",
       "      <td>(2021/01/11 Mon,)</td>\n",
       "      <td>22:12:55</td>\n",
       "    </tr>\n",
       "    <tr>\n",
       "      <th>6</th>\n",
       "      <td>(內湖運動中心,)</td>\n",
       "      <td>([0],)</td>\n",
       "      <td>(99,)</td>\n",
       "      <td>(10,)</td>\n",
       "      <td>(99,)</td>\n",
       "      <td>(2021/01/11 Mon,)</td>\n",
       "      <td>22:12:55</td>\n",
       "    </tr>\n",
       "    <tr>\n",
       "      <th>7</th>\n",
       "      <td>(士林運動中心,)</td>\n",
       "      <td>([0],)</td>\n",
       "      <td>(100,)</td>\n",
       "      <td>(1,)</td>\n",
       "      <td>(70,)</td>\n",
       "      <td>(2021/01/11 Mon,)</td>\n",
       "      <td>22:12:55</td>\n",
       "    </tr>\n",
       "    <tr>\n",
       "      <th>8</th>\n",
       "      <td>(松山運動中心,)</td>\n",
       "      <td>([0],)</td>\n",
       "      <td>(100,)</td>\n",
       "      <td>(0,)</td>\n",
       "      <td>(100,)</td>\n",
       "      <td>(2021/01/11 Mon,)</td>\n",
       "      <td>22:12:55</td>\n",
       "    </tr>\n",
       "    <tr>\n",
       "      <th>9</th>\n",
       "      <td>(虛擬北市運動,)</td>\n",
       "      <td>([0],)</td>\n",
       "      <td>(0,)</td>\n",
       "      <td>(0,)</td>\n",
       "      <td>(0,)</td>\n",
       "      <td>(2021/01/11 Mon,)</td>\n",
       "      <td>22:12:55</td>\n",
       "    </tr>\n",
       "    <tr>\n",
       "      <th>10</th>\n",
       "      <td>(萬華運動中心,)</td>\n",
       "      <td>([0],)</td>\n",
       "      <td>(100,)</td>\n",
       "      <td>(0,)</td>\n",
       "      <td>(100,)</td>\n",
       "      <td>(2021/01/11 Mon,)</td>\n",
       "      <td>22:12:55</td>\n",
       "    </tr>\n",
       "    <tr>\n",
       "      <th>11</th>\n",
       "      <td>(文山運動中心,)</td>\n",
       "      <td>([0],)</td>\n",
       "      <td>(100,)</td>\n",
       "      <td>(3,)</td>\n",
       "      <td>(80,)</td>\n",
       "      <td>(2021/01/11 Mon,)</td>\n",
       "      <td>22:12:55</td>\n",
       "    </tr>\n",
       "    <tr>\n",
       "      <th>12</th>\n",
       "      <td>(信義運動中心,)</td>\n",
       "      <td>([0],)</td>\n",
       "      <td>(100,)</td>\n",
       "      <td>(1,)</td>\n",
       "      <td>(65,)</td>\n",
       "      <td>(2021/01/11 Mon,)</td>\n",
       "      <td>22:12:55</td>\n",
       "    </tr>\n",
       "    <tr>\n",
       "      <th>13</th>\n",
       "      <td>(中山運動中心,)</td>\n",
       "      <td>([0],)</td>\n",
       "      <td>(100,)</td>\n",
       "      <td>(2,)</td>\n",
       "      <td>(50,)</td>\n",
       "      <td>(2021/01/11 Mon,)</td>\n",
       "      <td>22:12:55</td>\n",
       "    </tr>\n",
       "  </tbody>\n",
       "</table>\n",
       "</div>"
      ],
      "text/plain": [
       "       SCname  CurSwPNum MaxSwPNum CurGymPNum MaxGymPNum                Day  \\\n",
       "1   (北投運動中心,)     ([0],)    (100,)       (0,)      (80,)  (2021/01/11 Mon,)   \n",
       "2   (大安運動中心,)  ([2, 6],)    (100,)       (0,)      (70,)  (2021/01/11 Mon,)   \n",
       "3   (大同運動中心,)     ([0],)    (100,)       (1,)      (90,)  (2021/01/11 Mon,)   \n",
       "4   (中正運動中心,)  ([2, 0],)    (100,)       (3,)      (90,)  (2021/01/11 Mon,)   \n",
       "5   (南港運動中心,)  ([1, 5],)    (100,)       (0,)      (85,)  (2021/01/11 Mon,)   \n",
       "6   (內湖運動中心,)     ([0],)     (99,)      (10,)      (99,)  (2021/01/11 Mon,)   \n",
       "7   (士林運動中心,)     ([0],)    (100,)       (1,)      (70,)  (2021/01/11 Mon,)   \n",
       "8   (松山運動中心,)     ([0],)    (100,)       (0,)     (100,)  (2021/01/11 Mon,)   \n",
       "9   (虛擬北市運動,)     ([0],)      (0,)       (0,)       (0,)  (2021/01/11 Mon,)   \n",
       "10  (萬華運動中心,)     ([0],)    (100,)       (0,)     (100,)  (2021/01/11 Mon,)   \n",
       "11  (文山運動中心,)     ([0],)    (100,)       (3,)      (80,)  (2021/01/11 Mon,)   \n",
       "12  (信義運動中心,)     ([0],)    (100,)       (1,)      (65,)  (2021/01/11 Mon,)   \n",
       "13  (中山運動中心,)     ([0],)    (100,)       (2,)      (50,)  (2021/01/11 Mon,)   \n",
       "\n",
       "        Time  \n",
       "1   22:12:55  \n",
       "2   22:12:55  \n",
       "3   22:12:55  \n",
       "4   22:12:55  \n",
       "5   22:12:55  \n",
       "6   22:12:55  \n",
       "7   22:12:55  \n",
       "8   22:12:55  \n",
       "9   22:12:55  \n",
       "10  22:12:55  \n",
       "11  22:12:55  \n",
       "12  22:12:55  \n",
       "13  22:12:55  "
      ]
     },
     "execution_count": 43,
     "metadata": {},
     "output_type": "execute_result"
    }
   ],
   "source": [
    "df = pd.DataFrame()\n",
    "idx = list(range(1,14))\n",
    "df = pd.DataFrame(columns=[\"SCname\", \"CurSwPNum\", \"MaxSwPNum\", \"CurGymPNum\", \"MaxGymPNum\", \"Day\", \"Time\"],index=idx)\n",
    "df\n",
    "#print(type(df))\n",
    "#print(df.info)\n",
    "\n",
    "for i in range(1,14):    \n",
    "    df[\"SCname\"][i] = str(titles[4*(i)+1].parent.parent.parent.parent.text[0:6]),\n",
    "    df[\"CurSwPNum\"][i] = list(titles[4*(i)+1].text), \n",
    "    df[\"MaxSwPNum\"][i] = titles[(4*(i)+1)+1].text, \n",
    "    df[\"CurGymPNum\"][i] = titles[(4*(i)+1)+2].text, \n",
    "    df[\"MaxGymPNum\"][i] = titles[(4*(i)+1)+3].text,\n",
    "    df[\"Day\"][i] = day, \n",
    "    df[\"Time\"][i] = time\n",
    "    \n",
    "# df[[\"CurSwPNum\", \"MaxSwPNum\", \"CurGymPNum\", \"MaxGymPNum\"]] = df[[\"CurSwPNum\", \"MaxSwPNum\", \"CurGymPNum\", \"MaxGymPNum\"]].apply(pd.to_numeric)\n",
    "df"
   ]
  },
  {
   "cell_type": "code",
   "execution_count": 20,
   "metadata": {},
   "outputs": [
    {
     "data": {
      "text/plain": [
       "'3'"
      ]
     },
     "execution_count": 20,
     "metadata": {},
     "output_type": "execute_result"
    }
   ],
   "source": [
    "str(str(3))"
   ]
  }
 ],
 "metadata": {
  "kernelspec": {
   "display_name": "Python 3 (ipykernel)",
   "language": "python",
   "name": "python3"
  },
  "language_info": {
   "codemirror_mode": {
    "name": "ipython",
    "version": 3
   },
   "file_extension": ".py",
   "mimetype": "text/x-python",
   "name": "python",
   "nbconvert_exporter": "python",
   "pygments_lexer": "ipython3",
   "version": "3.9.13"
  }
 },
 "nbformat": 4,
 "nbformat_minor": 4
}
