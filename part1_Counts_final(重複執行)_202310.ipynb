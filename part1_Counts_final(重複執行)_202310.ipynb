{
 "cells": [
  {
   "cell_type": "code",
   "execution_count": 7,
   "metadata": {},
   "outputs": [
    {
     "ename": "IndexError",
     "evalue": "list index out of range",
     "output_type": "error",
     "traceback": [
      "\u001b[1;31m---------------------------------------------------------------------------\u001b[0m",
      "\u001b[1;31mIndexError\u001b[0m                                Traceback (most recent call last)",
      "\u001b[1;32m~\\AppData\\Local\\Temp\\ipykernel_13248\\3542405108.py\u001b[0m in \u001b[0;36m<module>\u001b[1;34m\u001b[0m\n\u001b[0;32m     38\u001b[0m \u001b[1;33m\u001b[0m\u001b[0m\n\u001b[0;32m     39\u001b[0m         \u001b[1;32mfor\u001b[0m \u001b[0mi\u001b[0m \u001b[1;32min\u001b[0m \u001b[0mrange\u001b[0m\u001b[1;33m(\u001b[0m\u001b[1;36m1\u001b[0m\u001b[1;33m,\u001b[0m\u001b[1;36m12\u001b[0m\u001b[1;33m)\u001b[0m\u001b[1;33m:\u001b[0m\u001b[1;33m\u001b[0m\u001b[1;33m\u001b[0m\u001b[0m\n\u001b[1;32m---> 40\u001b[1;33m             \u001b[0mdf\u001b[0m\u001b[1;33m[\u001b[0m\u001b[1;34m\"SCname\"\u001b[0m\u001b[1;33m]\u001b[0m\u001b[1;33m[\u001b[0m\u001b[0mi\u001b[0m\u001b[1;33m]\u001b[0m \u001b[1;33m=\u001b[0m \u001b[0mtitles\u001b[0m\u001b[1;33m[\u001b[0m\u001b[1;36m4\u001b[0m\u001b[1;33m*\u001b[0m\u001b[1;33m(\u001b[0m\u001b[0mi\u001b[0m\u001b[1;33m)\u001b[0m\u001b[1;33m+\u001b[0m\u001b[1;36m1\u001b[0m\u001b[1;33m]\u001b[0m\u001b[1;33m.\u001b[0m\u001b[0mparent\u001b[0m\u001b[1;33m.\u001b[0m\u001b[0mparent\u001b[0m\u001b[1;33m.\u001b[0m\u001b[0mparent\u001b[0m\u001b[1;33m.\u001b[0m\u001b[0mparent\u001b[0m\u001b[1;33m.\u001b[0m\u001b[0mtext\u001b[0m\u001b[1;33m[\u001b[0m\u001b[1;36m0\u001b[0m\u001b[1;33m:\u001b[0m\u001b[1;36m6\u001b[0m\u001b[1;33m]\u001b[0m\u001b[1;33m,\u001b[0m\u001b[1;33m\u001b[0m\u001b[1;33m\u001b[0m\u001b[0m\n\u001b[0m\u001b[0;32m     41\u001b[0m             \u001b[0mdf\u001b[0m\u001b[1;33m[\u001b[0m\u001b[1;34m\"CurSwPNum\"\u001b[0m\u001b[1;33m]\u001b[0m\u001b[1;33m[\u001b[0m\u001b[0mi\u001b[0m\u001b[1;33m]\u001b[0m \u001b[1;33m=\u001b[0m \u001b[0mtitles\u001b[0m\u001b[1;33m[\u001b[0m\u001b[1;36m4\u001b[0m\u001b[1;33m*\u001b[0m\u001b[1;33m(\u001b[0m\u001b[0mi\u001b[0m\u001b[1;33m)\u001b[0m\u001b[1;33m+\u001b[0m\u001b[1;36m1\u001b[0m\u001b[1;33m]\u001b[0m\u001b[1;33m.\u001b[0m\u001b[0mtext\u001b[0m\u001b[1;33m,\u001b[0m\u001b[1;33m\u001b[0m\u001b[1;33m\u001b[0m\u001b[0m\n\u001b[0;32m     42\u001b[0m             \u001b[0mdf\u001b[0m\u001b[1;33m[\u001b[0m\u001b[1;34m\"MaxSwPNum\"\u001b[0m\u001b[1;33m]\u001b[0m\u001b[1;33m[\u001b[0m\u001b[0mi\u001b[0m\u001b[1;33m]\u001b[0m \u001b[1;33m=\u001b[0m \u001b[0mtitles\u001b[0m\u001b[1;33m[\u001b[0m\u001b[1;33m(\u001b[0m\u001b[1;36m4\u001b[0m\u001b[1;33m*\u001b[0m\u001b[1;33m(\u001b[0m\u001b[0mi\u001b[0m\u001b[1;33m)\u001b[0m\u001b[1;33m+\u001b[0m\u001b[1;36m1\u001b[0m\u001b[1;33m)\u001b[0m\u001b[1;33m+\u001b[0m\u001b[1;36m1\u001b[0m\u001b[1;33m]\u001b[0m\u001b[1;33m.\u001b[0m\u001b[0mtext\u001b[0m\u001b[1;33m,\u001b[0m\u001b[1;33m\u001b[0m\u001b[1;33m\u001b[0m\u001b[0m\n",
      "\u001b[1;31mIndexError\u001b[0m: list index out of range"
     ]
    }
   ],
   "source": [
    "from datetime import datetime\n",
    "\n",
    "while True:\n",
    "    now = datetime.now()\n",
    "    if now.hour in range(5,24) and now.minute%5 == 0 and now.second == 0:\n",
    "\n",
    "    #執行所需的程式片段(例如爬蟲)\n",
    "        # 載入需要的套件\n",
    "        from selenium import webdriver\n",
    "        from selenium.webdriver.common.by import By\n",
    "        from bs4 import BeautifulSoup\n",
    "        import time\n",
    "        import pandas as pd\n",
    "        import xlwings as xw\n",
    "        import numpy as np\n",
    "        import os\n",
    "\n",
    "\n",
    "        os.chdir(\"E:/我的雲端硬碟/NTU/109_1/109NTUPython/final.report/2023\")\n",
    "        # 開啟瀏覽器視窗(Chrome)\n",
    "        # 方法一：執行前需開啟chromedriver.exe且與執行檔在同一個工作目錄\n",
    "        driver = webdriver.Chrome()\n",
    "        day = time.strftime(\"%Y%m%d %a\")\n",
    "        hms = time.strftime(\"%H-%M-%S\")\n",
    "        # 前往特定網址\n",
    "        default_url = \"https://booking-tpsc.sporetrofit.com/Home/LocationPeopleNum\"\n",
    "        driver.get(default_url)\n",
    "        # 這時候的HTML原始碼就是我們要爬取的網頁內容，將目前瀏覽器的page_source(原始碼)，傳入BeautifulSoup類別，來進行解析\n",
    "        soup = BeautifulSoup(driver.page_source, 'html.parser')\n",
    "        titles = soup.find_all('span')\n",
    "\n",
    "\n",
    "        df = pd.DataFrame()\n",
    "        idx = list(range(1,12))\n",
    "        df = pd.DataFrame(columns=[\"SCname\", \"CurSwPNum\", \"MaxSwPNum\", \"CurGymPNum\", \"MaxGymPNum\", \"Day\", \"Time\"],index=idx)\n",
    "        #print(type(df))\n",
    "        #print(df.info)\n",
    "\n",
    "        for i in range(1,12):    \n",
    "            df[\"SCname\"][i] = titles[4*(i)+1].parent.parent.parent.parent.text[0:6],\n",
    "            df[\"CurSwPNum\"][i] = titles[4*(i)+1].text, \n",
    "            df[\"MaxSwPNum\"][i] = titles[(4*(i)+1)+1].text, \n",
    "            df[\"CurGymPNum\"][i] = titles[(4*(i)+1)+2].text, \n",
    "            df[\"MaxGymPNum\"][i] = titles[(4*(i)+1)+3].text,\n",
    "            df[\"Day\"][i] = day, \n",
    "            df[\"Time\"][i] = hms\n",
    "\n",
    "        # df[[\"CurSwPNum\", \"MaxSwPNum\", \"CurGymPNum\", \"MaxGymPNum\"]] = df[[\"CurSwPNum\", \"MaxSwPNum\", \"CurGymPNum\", \"MaxGymPNum\"]].apply(pd.to_numeric)\n",
    "        df2 = df\n",
    "        df2['SCname'] = df2['SCname'].apply(lambda x: ''.join(x) if isinstance(x,tuple) else x)\n",
    "        df2['CurSwPNum'] = df2['CurSwPNum'].apply(lambda x: int(list(x)[0]) if isinstance(x,tuple) else x)\n",
    "        df2['MaxSwPNum'] = df2['MaxSwPNum'].apply(lambda x: int(list(x)[0]) if isinstance(x,tuple) else x)\n",
    "        df2['CurGymPNum'] = df2['CurGymPNum'].apply(lambda x: int(list(x)[0]) if isinstance(x,tuple) else x)\n",
    "        df2['MaxGymPNum'] = df2['MaxGymPNum'].apply(lambda x: int(list(x)[0]) if isinstance(x,tuple) else x)\n",
    "        df2['Day'] = df2['Day'].apply(lambda x: ''.join(x) if isinstance(x,tuple) else x)\n",
    "        df2\n",
    "\n",
    "        os.chdir(\"E:/我的雲端硬碟/NTU/109_1/109NTUPython/final.report/2023/output\")\n",
    "        outname = day + \" \" + hms + \".xlsx\"\n",
    "        df.to_excel(outname)\n",
    "\n",
    "        driver.close() # 關閉瀏覽器視窗\n",
    "\n",
    "        time.sleep(240)"
   ]
  },
  {
   "cell_type": "code",
   "execution_count": null,
   "metadata": {},
   "outputs": [],
   "source": []
  },
  {
   "cell_type": "code",
   "execution_count": null,
   "metadata": {},
   "outputs": [],
   "source": []
  },
  {
   "cell_type": "code",
   "execution_count": 2,
   "metadata": {},
   "outputs": [
    {
     "data": {
      "text/plain": [
       "(21, 2, 34)"
      ]
     },
     "execution_count": 2,
     "metadata": {},
     "output_type": "execute_result"
    }
   ],
   "source": [
    "from datetime import datetime\n",
    "now = datetime.now()\n",
    "now.hour, now.minute, now.second"
   ]
  },
  {
   "cell_type": "code",
   "execution_count": 57,
   "metadata": {},
   "outputs": [
    {
     "ename": "KeyboardInterrupt",
     "evalue": "",
     "output_type": "error",
     "traceback": [
      "\u001b[1;31m---------------------------------------------------------------------------\u001b[0m",
      "\u001b[1;31mKeyboardInterrupt\u001b[0m                         Traceback (most recent call last)",
      "\u001b[1;32m<ipython-input-57-2b43b8a91629>\u001b[0m in \u001b[0;36m<module>\u001b[1;34m\u001b[0m\n\u001b[0;32m      2\u001b[0m \u001b[1;33m\u001b[0m\u001b[0m\n\u001b[0;32m      3\u001b[0m \u001b[1;32mwhile\u001b[0m \u001b[1;32mTrue\u001b[0m\u001b[1;33m:\u001b[0m\u001b[1;33m\u001b[0m\u001b[1;33m\u001b[0m\u001b[0m\n\u001b[1;32m----> 4\u001b[1;33m     \u001b[1;32mif\u001b[0m \u001b[0mh\u001b[0m \u001b[1;32min\u001b[0m \u001b[0mrange\u001b[0m\u001b[1;33m(\u001b[0m\u001b[1;36m1\u001b[0m\u001b[1;33m,\u001b[0m\u001b[1;36m4\u001b[0m\u001b[1;33m)\u001b[0m\u001b[1;33m:\u001b[0m\u001b[1;33m\u001b[0m\u001b[1;33m\u001b[0m\u001b[0m\n\u001b[0m\u001b[0;32m      5\u001b[0m         \u001b[0mprint\u001b[0m\u001b[1;33m(\u001b[0m\u001b[1;34m\"yes\"\u001b[0m\u001b[1;33m)\u001b[0m\u001b[1;33m\u001b[0m\u001b[1;33m\u001b[0m\u001b[0m\n",
      "\u001b[1;31mKeyboardInterrupt\u001b[0m: "
     ]
    }
   ],
   "source": [
    "h=4\n",
    "\n",
    "while True:\n",
    "    if h in range(1,4):\n",
    "        print(\"yes\")\n"
   ]
  },
  {
   "cell_type": "code",
   "execution_count": 53,
   "metadata": {},
   "outputs": [
    {
     "name": "stdout",
     "output_type": "stream",
     "text": [
      "1\n",
      "2\n",
      "3\n"
     ]
    }
   ],
   "source": [
    "for i in range(1,4):\n",
    "    print(i)"
   ]
  }
 ],
 "metadata": {
  "kernelspec": {
   "display_name": "Python 3 (ipykernel)",
   "language": "python",
   "name": "python3"
  },
  "language_info": {
   "codemirror_mode": {
    "name": "ipython",
    "version": 3
   },
   "file_extension": ".py",
   "mimetype": "text/x-python",
   "name": "python",
   "nbconvert_exporter": "python",
   "pygments_lexer": "ipython3",
   "version": "3.9.13"
  }
 },
 "nbformat": 4,
 "nbformat_minor": 4
}
