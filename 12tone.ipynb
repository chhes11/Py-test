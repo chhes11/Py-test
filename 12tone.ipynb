{
 "cells": [
  {
   "cell_type": "code",
   "execution_count": 1,
   "id": "196d39df",
   "metadata": {},
   "outputs": [
    {
     "name": "stdout",
     "output_type": "stream",
     "text": [
      "prime:                0   5   3   7   2   9   4   6   11  10  8   1 \n",
      "retrograde:           1   8   10  11  6   4   9   2   7   3   5   0 \n",
      "inversion:            0   7   9   5   10  3   8   6   1   2   4   11\n",
      "inversion retrograde: 11  4   2   1   6   8   3   10  5   9   7   0 \n",
      "\n",
      "-------------------------------------------------------------\n",
      "\n",
      "prime(0):    0   5   3   7   2   9   4   6   11  10  8   1 \n",
      "prime(7 ):   7   0   10  2   9   4   11  1   6   5   3   8 \n",
      "prime(9 ):   9   2   0   4   11  6   1   3   8   7   5   10\n",
      "prime(5 ):   5   10  8   0   7   2   9   11  4   3   1   6 \n",
      "prime(10):   10  3   1   5   0   7   2   4   9   8   6   11\n",
      "prime(3 ):   3   8   6   10  5   0   7   9   2   1   11  4 \n",
      "prime(8 ):   8   1   11  3   10  5   0   2   7   6   4   9 \n",
      "prime(6 ):   6   11  9   1   8   3   10  0   5   4   2   7 \n",
      "prime(1 ):   1   6   4   8   3   10  5   7   0   11  9   2 \n",
      "prime(2 ):   2   7   5   9   4   11  6   8   1   0   10  3 \n",
      "prime(4 ):   4   9   7   11  6   1   8   10  3   2   0   5 \n",
      "prime(11):   11  4   2   6   1   8   3   5   10  9   7   0 \n"
     ]
    }
   ],
   "source": [
    "def zeroeleven(number):\n",
    "    return number % 12\n",
    "    \n",
    "def ordered(number):\n",
    "    if number >= 10:\n",
    "        return str(number)\n",
    "    elif number < 10:\n",
    "        return f\"{number} \"\n",
    "\n",
    "prime = [0, 5, 3, 7, 2, 9, 4, 6, 11, 10, 8, 1]\n",
    " \n",
    "prime_out = []\n",
    "for i in prime:\n",
    "    prime_out.append(ordered(i))\n",
    "print(\"prime:                \" + \"  \".join(prime_out))\n",
    " \n",
    "#retrograde\n",
    "print(\"retrograde:           \" + \"  \".join(reversed(prime_out)))\n",
    "\n",
    "#inversion\n",
    "inversion = []\n",
    "prime[prime.index(0)] = 12\n",
    "for i in prime:\n",
    "    inversion_num = zeroeleven(prime[0] + prime[0] - i)\n",
    "    inversion.append(inversion_num) \n",
    "prime[prime.index(12)] = 0\n",
    "\n",
    "inversion_out = []\n",
    "for i in inversion:\n",
    "    inversion_out.append(ordered(i))\n",
    "print(\"inversion:            \" + \"  \".join(inversion_out))\n",
    "\n",
    "#inversion retrograde\n",
    "print(\"inversion retrograde: \" + \"  \".join(reversed(inversion_out)))\n",
    "\n",
    "print()\n",
    "print(\"-------------------------------------------------------------\")\n",
    "print()\n",
    "print(f\"prime({prime[0]}):    \" + \"  \".join(prime_out))\n",
    "\n",
    "#other prime\n",
    "for j in range(2, len(prime)+1):\n",
    "    other_prime = []\n",
    "    prime[prime.index(0)] = 12\n",
    "    for i in prime:\n",
    "        other_prime_num = zeroeleven(inversion[j-1] + i - prime[0])\n",
    "        other_prime.append(ordered(other_prime_num))\n",
    "    prime[prime.index(12)] = 0\n",
    "    print(f\"prime({other_prime[0]}):   \" + \"  \".join(other_prime))"
   ]
  }
 ],
 "metadata": {
  "kernelspec": {
   "display_name": "Python 3 (ipykernel)",
   "language": "python",
   "name": "python3"
  },
  "language_info": {
   "codemirror_mode": {
    "name": "ipython",
    "version": 3
   },
   "file_extension": ".py",
   "mimetype": "text/x-python",
   "name": "python",
   "nbconvert_exporter": "python",
   "pygments_lexer": "ipython3",
   "version": "3.11.5"
  }
 },
 "nbformat": 4,
 "nbformat_minor": 5
}
