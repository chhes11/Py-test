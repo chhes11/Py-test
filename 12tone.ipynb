{
 "cells": [
  {
   "cell_type": "code",
   "execution_count": null,
   "id": "63249b0c",
   "metadata": {},
   "outputs": [],
   "source": [
    "def zeroeleven(number):\n",
    "    return number % 12\n",
    "    \n",
    "def ordered(number):\n",
    "    if number >= 10:\n",
    "        return str(number)\n",
    "    elif number < 10:\n",
    "        return f\"{number} \"\n",
    "\n",
    "prime = [1, 3, 5, 7, 9, 2, 4, 6, 8, 10, 11, 0]\n",
    " \n",
    "prime_out = []\n",
    "for i in prime:\n",
    "    prime_out.append(ordered(i))\n",
    "print(\"prime:                \" + \"  \".join(prime_out))\n",
    " \n",
    "#retrograde\n",
    "print(\"retrograde:           \" + \"  \".join(reversed(prime_out)))\n",
    "\n",
    "#inversion\n",
    "inversion = []\n",
    "prime[prime.index(0)] = 12\n",
    "for i in prime:\n",
    "    inversion_num = zeroeleven(prime[0] + prime[0] - i)\n",
    "    inversion.append(inversion_num) \n",
    "prime[prime.index(12)] = 0\n",
    "\n",
    "inversion_out = []\n",
    "for i in inversion:\n",
    "    inversion_out.append(ordered(i))\n",
    "print(\"inversion:            \" + \"  \".join(inversion_out))\n",
    "\n",
    "#inversion retrograde\n",
    "print(\"inversion retrograde: \" + \"  \".join(reversed(inversion_out)))\n",
    "\n",
    "print()\n",
    "print(\"-------------------------------------------------------------\")\n",
    "print()\n",
    "print(f\"prime({prime[0]}):    \" + \"  \".join(prime_out))\n",
    "\n",
    "#other prime\n",
    "for j in range(2, len(prime)+1):\n",
    "    other_prime = []\n",
    "    prime[prime.index(0)] = 12\n",
    "    for i in prime:\n",
    "        other_prime_num = zeroeleven(inversion[j-1] + i - prime[0])\n",
    "        other_prime.append(ordered(other_prime_num))\n",
    "    prime[prime.index(12)] = 0\n",
    "    print(f\"prime({other_prime[0]}):   \" + \"  \".join(other_prime))"
   ]
  }
 ],
 "metadata": {
  "kernelspec": {
   "display_name": "Python 3 (ipykernel)",
   "language": "python",
   "name": "python3"
  },
  "language_info": {
   "codemirror_mode": {
    "name": "ipython",
    "version": 3
   },
   "file_extension": ".py",
   "mimetype": "text/x-python",
   "name": "python",
   "nbconvert_exporter": "python",
   "pygments_lexer": "ipython3",
   "version": "3.11.5"
  }
 },
 "nbformat": 4,
 "nbformat_minor": 5
}
